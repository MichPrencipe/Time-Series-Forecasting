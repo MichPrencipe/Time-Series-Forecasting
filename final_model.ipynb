{
 "cells": [
  {
   "cell_type": "code",
   "execution_count": 9,
   "id": "2c457289",
   "metadata": {
    "execution": {
     "iopub.execute_input": "2023-12-18T19:26:54.720800Z",
     "iopub.status.busy": "2023-12-18T19:26:54.720470Z",
     "iopub.status.idle": "2023-12-18T19:26:54.732386Z",
     "shell.execute_reply": "2023-12-18T19:26:54.731639Z"
    },
    "id": "1eEPef1fdT0M",
    "papermill": {
     "duration": 0.02489,
     "end_time": "2023-12-18T19:26:54.734309",
     "exception": false,
     "start_time": "2023-12-18T19:26:54.709419",
     "status": "completed"
    },
    "tags": []
   },
   "outputs": [],
   "source": [
    "# Fix randomness and hide warnings\n",
    "seed = 42\n",
    "\n",
    "import os\n",
    "os.environ['TF_CPP_MIN_LOG_LEVEL'] = '3'\n",
    "os.environ['PYTHONHASHSEED'] = str(seed)\n",
    "os.environ['MPLCONFIGDIR'] = os.getcwd()+'/configs/'\n",
    "\n",
    "import warnings\n",
    "warnings.simplefilter(action='ignore', category=FutureWarning)\n",
    "warnings.simplefilter(action='ignore', category=Warning)\n",
    "\n",
    "import numpy as np\n",
    "np.random.seed(seed)\n",
    "\n",
    "import logging\n",
    "\n",
    "import random\n",
    "random.seed(seed)"
   ]
  },
  {
   "cell_type": "code",
   "execution_count": 10,
   "id": "0b5df6c3",
   "metadata": {
    "execution": {
     "iopub.execute_input": "2023-12-18T19:26:54.752839Z",
     "iopub.status.busy": "2023-12-18T19:26:54.752559Z",
     "iopub.status.idle": "2023-12-18T19:27:07.382913Z",
     "shell.execute_reply": "2023-12-18T19:27:07.381981Z"
    },
    "id": "S4a8sGl-dadn",
    "outputId": "20835ee7-3361-467b-aae9-37028a608418",
    "papermill": {
     "duration": 12.642079,
     "end_time": "2023-12-18T19:27:07.385316",
     "exception": false,
     "start_time": "2023-12-18T19:26:54.743237",
     "status": "completed"
    },
    "tags": []
   },
   "outputs": [
    {
     "name": "stdout",
     "output_type": "stream",
     "text": [
      "2.14.0\n"
     ]
    }
   ],
   "source": [
    "# Import tensorflow\n",
    "import tensorflow as tf\n",
    "from tensorflow import keras as tfk\n",
    "from tensorflow.keras import layers as tfkl\n",
    "tf.autograph.set_verbosity(0)\n",
    "tf.get_logger().setLevel(logging.ERROR)\n",
    "tf.compat.v1.logging.set_verbosity(tf.compat.v1.logging.ERROR)\n",
    "tf.random.set_seed(seed)\n",
    "tf.compat.v1.set_random_seed(seed)\n",
    "print(tf.__version__)"
   ]
  },
  {
   "cell_type": "code",
   "execution_count": 11,
   "id": "c4b66e95",
   "metadata": {
    "execution": {
     "iopub.execute_input": "2023-12-18T19:27:20.805454Z",
     "iopub.status.busy": "2023-12-18T19:27:20.805115Z",
     "iopub.status.idle": "2023-12-18T19:27:26.109137Z",
     "shell.execute_reply": "2023-12-18T19:27:26.108212Z"
    },
    "id": "tO1YT1K1et2J",
    "papermill": {
     "duration": 5.317846,
     "end_time": "2023-12-18T19:27:26.111603",
     "exception": false,
     "start_time": "2023-12-18T19:27:20.793757",
     "status": "completed"
    },
    "tags": []
   },
   "outputs": [],
   "source": [
    "import pandas as pd\n",
    "import seaborn as sns\n",
    "from tqdm import tqdm\n",
    "from datetime import datetime\n",
    "import matplotlib.pyplot as plt\n",
    "plt.rc('font', size=16)\n",
    "from sklearn.preprocessing import MinMaxScaler\n",
    "from sklearn.model_selection import train_test_split\n",
    "from sklearn.preprocessing import RobustScaler\n",
    "import warnings\n",
    "from statsmodels.tools.sm_exceptions import InterpolationWarning\n",
    "from statsmodels.graphics import tsaplots\n",
    "from statsmodels.tsa.stattools import kpss, adfuller\n",
    "from statsmodels.tsa.seasonal import seasonal_decompose"
   ]
  },
  {
   "cell_type": "markdown",
   "id": "899bdaa5",
   "metadata": {
    "id": "fvHHDFeHejqD",
    "papermill": {
     "duration": 0.009905,
     "end_time": "2023-12-18T19:27:26.131729",
     "exception": false,
     "start_time": "2023-12-18T19:27:26.121824",
     "status": "completed"
    },
    "tags": []
   },
   "source": [
    "# Load data"
   ]
  },
  {
   "cell_type": "code",
   "execution_count": 12,
   "id": "c1945626",
   "metadata": {
    "execution": {
     "iopub.execute_input": "2023-12-18T19:27:26.152761Z",
     "iopub.status.busy": "2023-12-18T19:27:26.152125Z",
     "iopub.status.idle": "2023-12-18T19:27:26.156813Z",
     "shell.execute_reply": "2023-12-18T19:27:26.155798Z"
    },
    "id": "KMKgPih8iMhZ",
    "papermill": {
     "duration": 0.017644,
     "end_time": "2023-12-18T19:27:26.158988",
     "exception": false,
     "start_time": "2023-12-18T19:27:26.141344",
     "status": "completed"
    },
    "tags": []
   },
   "outputs": [],
   "source": [
    "dataset_dir = 'dataset'\n",
    "# dataset_dir = '/kaggle/input/an2dl-challenge2'"
   ]
  },
  {
   "cell_type": "code",
   "execution_count": 13,
   "id": "e1fbe5ca",
   "metadata": {
    "execution": {
     "iopub.execute_input": "2023-12-18T19:27:26.180697Z",
     "iopub.status.busy": "2023-12-18T19:27:26.180328Z",
     "iopub.status.idle": "2023-12-18T19:27:32.880266Z",
     "shell.execute_reply": "2023-12-18T19:27:32.879313Z"
    },
    "id": "rD7efA36dbUy",
    "outputId": "2d0ec820-827d-466b-9f4e-244fcd8eb827",
    "papermill": {
     "duration": 6.713317,
     "end_time": "2023-12-18T19:27:32.882428",
     "exception": false,
     "start_time": "2023-12-18T19:27:26.169111",
     "status": "completed"
    },
    "tags": []
   },
   "outputs": [
    {
     "data": {
      "text/plain": [
       "(48000, 2776)"
      ]
     },
     "execution_count": 13,
     "metadata": {},
     "output_type": "execute_result"
    }
   ],
   "source": [
    "dataset = np.load(f'{dataset_dir}/training_data.npy')\n",
    "df = pd.DataFrame(dataset)\n",
    "df.shape"
   ]
  },
  {
   "cell_type": "code",
   "execution_count": 14,
   "id": "72f5c847",
   "metadata": {
    "execution": {
     "iopub.execute_input": "2023-12-18T19:27:32.903522Z",
     "iopub.status.busy": "2023-12-18T19:27:32.903186Z",
     "iopub.status.idle": "2023-12-18T19:27:32.936907Z",
     "shell.execute_reply": "2023-12-18T19:27:32.935884Z"
    },
    "id": "I0zJDFQMewA8",
    "outputId": "df4722d1-a5fe-453b-cbef-4fac2302771d",
    "papermill": {
     "duration": 0.046445,
     "end_time": "2023-12-18T19:27:32.938937",
     "exception": false,
     "start_time": "2023-12-18T19:27:32.892492",
     "status": "completed"
    },
    "tags": []
   },
   "outputs": [
    {
     "data": {
      "text/html": [
       "<div>\n",
       "<style scoped>\n",
       "    .dataframe tbody tr th:only-of-type {\n",
       "        vertical-align: middle;\n",
       "    }\n",
       "\n",
       "    .dataframe tbody tr th {\n",
       "        vertical-align: top;\n",
       "    }\n",
       "\n",
       "    .dataframe thead th {\n",
       "        text-align: right;\n",
       "    }\n",
       "</style>\n",
       "<table border=\"1\" class=\"dataframe\">\n",
       "  <thead>\n",
       "    <tr style=\"text-align: right;\">\n",
       "      <th></th>\n",
       "      <th>0</th>\n",
       "      <th>1</th>\n",
       "      <th>2</th>\n",
       "      <th>3</th>\n",
       "      <th>4</th>\n",
       "      <th>5</th>\n",
       "      <th>6</th>\n",
       "      <th>7</th>\n",
       "      <th>8</th>\n",
       "      <th>9</th>\n",
       "      <th>...</th>\n",
       "      <th>2766</th>\n",
       "      <th>2767</th>\n",
       "      <th>2768</th>\n",
       "      <th>2769</th>\n",
       "      <th>2770</th>\n",
       "      <th>2771</th>\n",
       "      <th>2772</th>\n",
       "      <th>2773</th>\n",
       "      <th>2774</th>\n",
       "      <th>2775</th>\n",
       "    </tr>\n",
       "  </thead>\n",
       "  <tbody>\n",
       "    <tr>\n",
       "      <th>0</th>\n",
       "      <td>0.0</td>\n",
       "      <td>0.0</td>\n",
       "      <td>0.0</td>\n",
       "      <td>0.0</td>\n",
       "      <td>0.0</td>\n",
       "      <td>0.0</td>\n",
       "      <td>0.0</td>\n",
       "      <td>0.0</td>\n",
       "      <td>0.0</td>\n",
       "      <td>0.0</td>\n",
       "      <td>...</td>\n",
       "      <td>0.478704</td>\n",
       "      <td>0.412963</td>\n",
       "      <td>0.501852</td>\n",
       "      <td>0.756481</td>\n",
       "      <td>0.744444</td>\n",
       "      <td>0.640741</td>\n",
       "      <td>0.516667</td>\n",
       "      <td>0.602778</td>\n",
       "      <td>0.367593</td>\n",
       "      <td>0.331481</td>\n",
       "    </tr>\n",
       "    <tr>\n",
       "      <th>1</th>\n",
       "      <td>0.0</td>\n",
       "      <td>0.0</td>\n",
       "      <td>0.0</td>\n",
       "      <td>0.0</td>\n",
       "      <td>0.0</td>\n",
       "      <td>0.0</td>\n",
       "      <td>0.0</td>\n",
       "      <td>0.0</td>\n",
       "      <td>0.0</td>\n",
       "      <td>0.0</td>\n",
       "      <td>...</td>\n",
       "      <td>0.628000</td>\n",
       "      <td>0.624000</td>\n",
       "      <td>0.644000</td>\n",
       "      <td>0.688000</td>\n",
       "      <td>0.740000</td>\n",
       "      <td>0.640000</td>\n",
       "      <td>0.536000</td>\n",
       "      <td>0.600000</td>\n",
       "      <td>0.460000</td>\n",
       "      <td>0.396000</td>\n",
       "    </tr>\n",
       "    <tr>\n",
       "      <th>2</th>\n",
       "      <td>0.0</td>\n",
       "      <td>0.0</td>\n",
       "      <td>0.0</td>\n",
       "      <td>0.0</td>\n",
       "      <td>0.0</td>\n",
       "      <td>0.0</td>\n",
       "      <td>0.0</td>\n",
       "      <td>0.0</td>\n",
       "      <td>0.0</td>\n",
       "      <td>0.0</td>\n",
       "      <td>...</td>\n",
       "      <td>0.959741</td>\n",
       "      <td>0.949098</td>\n",
       "      <td>0.919297</td>\n",
       "      <td>0.916705</td>\n",
       "      <td>0.901249</td>\n",
       "      <td>0.932531</td>\n",
       "      <td>0.955206</td>\n",
       "      <td>0.960481</td>\n",
       "      <td>0.946506</td>\n",
       "      <td>0.977140</td>\n",
       "    </tr>\n",
       "    <tr>\n",
       "      <th>3</th>\n",
       "      <td>0.0</td>\n",
       "      <td>0.0</td>\n",
       "      <td>0.0</td>\n",
       "      <td>0.0</td>\n",
       "      <td>0.0</td>\n",
       "      <td>0.0</td>\n",
       "      <td>0.0</td>\n",
       "      <td>0.0</td>\n",
       "      <td>0.0</td>\n",
       "      <td>0.0</td>\n",
       "      <td>...</td>\n",
       "      <td>0.411765</td>\n",
       "      <td>0.307030</td>\n",
       "      <td>0.325681</td>\n",
       "      <td>0.361549</td>\n",
       "      <td>0.430416</td>\n",
       "      <td>0.486370</td>\n",
       "      <td>0.450502</td>\n",
       "      <td>0.470588</td>\n",
       "      <td>0.569584</td>\n",
       "      <td>0.571019</td>\n",
       "    </tr>\n",
       "    <tr>\n",
       "      <th>4</th>\n",
       "      <td>0.0</td>\n",
       "      <td>0.0</td>\n",
       "      <td>0.0</td>\n",
       "      <td>0.0</td>\n",
       "      <td>0.0</td>\n",
       "      <td>0.0</td>\n",
       "      <td>0.0</td>\n",
       "      <td>0.0</td>\n",
       "      <td>0.0</td>\n",
       "      <td>0.0</td>\n",
       "      <td>...</td>\n",
       "      <td>0.340909</td>\n",
       "      <td>0.522727</td>\n",
       "      <td>0.568182</td>\n",
       "      <td>0.772727</td>\n",
       "      <td>0.681818</td>\n",
       "      <td>0.704545</td>\n",
       "      <td>0.863636</td>\n",
       "      <td>0.727273</td>\n",
       "      <td>0.818182</td>\n",
       "      <td>0.840909</td>\n",
       "    </tr>\n",
       "  </tbody>\n",
       "</table>\n",
       "<p>5 rows × 2776 columns</p>\n",
       "</div>"
      ],
      "text/plain": [
       "   0     1     2     3     4     5     6     7     8     9     ...      2766  \\\n",
       "0   0.0   0.0   0.0   0.0   0.0   0.0   0.0   0.0   0.0   0.0  ...  0.478704   \n",
       "1   0.0   0.0   0.0   0.0   0.0   0.0   0.0   0.0   0.0   0.0  ...  0.628000   \n",
       "2   0.0   0.0   0.0   0.0   0.0   0.0   0.0   0.0   0.0   0.0  ...  0.959741   \n",
       "3   0.0   0.0   0.0   0.0   0.0   0.0   0.0   0.0   0.0   0.0  ...  0.411765   \n",
       "4   0.0   0.0   0.0   0.0   0.0   0.0   0.0   0.0   0.0   0.0  ...  0.340909   \n",
       "\n",
       "       2767      2768      2769      2770      2771      2772      2773  \\\n",
       "0  0.412963  0.501852  0.756481  0.744444  0.640741  0.516667  0.602778   \n",
       "1  0.624000  0.644000  0.688000  0.740000  0.640000  0.536000  0.600000   \n",
       "2  0.949098  0.919297  0.916705  0.901249  0.932531  0.955206  0.960481   \n",
       "3  0.307030  0.325681  0.361549  0.430416  0.486370  0.450502  0.470588   \n",
       "4  0.522727  0.568182  0.772727  0.681818  0.704545  0.863636  0.727273   \n",
       "\n",
       "       2774      2775  \n",
       "0  0.367593  0.331481  \n",
       "1  0.460000  0.396000  \n",
       "2  0.946506  0.977140  \n",
       "3  0.569584  0.571019  \n",
       "4  0.818182  0.840909  \n",
       "\n",
       "[5 rows x 2776 columns]"
      ]
     },
     "execution_count": 14,
     "metadata": {},
     "output_type": "execute_result"
    }
   ],
   "source": [
    "df.head()"
   ]
  },
  {
   "cell_type": "code",
   "execution_count": 15,
   "id": "927544a0",
   "metadata": {
    "execution": {
     "iopub.execute_input": "2023-12-18T19:27:32.961182Z",
     "iopub.status.busy": "2023-12-18T19:27:32.960806Z",
     "iopub.status.idle": "2023-12-18T19:27:32.996889Z",
     "shell.execute_reply": "2023-12-18T19:27:32.995901Z"
    },
    "id": "phqDHg9zfkad",
    "outputId": "67eb7a61-0f5e-4a60-e29c-2f7c4855fd4b",
    "papermill": {
     "duration": 0.049525,
     "end_time": "2023-12-18T19:27:32.999002",
     "exception": false,
     "start_time": "2023-12-18T19:27:32.949477",
     "status": "completed"
    },
    "tags": []
   },
   "outputs": [
    {
     "data": {
      "text/plain": [
       "(48000, 2)"
      ]
     },
     "execution_count": 15,
     "metadata": {},
     "output_type": "execute_result"
    }
   ],
   "source": [
    "valid_periods = np.load(f'{dataset_dir}/valid_periods.npy')\n",
    "valid_periods.shape"
   ]
  },
  {
   "cell_type": "code",
   "execution_count": 16,
   "id": "2f56db34",
   "metadata": {
    "execution": {
     "iopub.execute_input": "2023-12-18T19:27:33.022319Z",
     "iopub.status.busy": "2023-12-18T19:27:33.021961Z",
     "iopub.status.idle": "2023-12-18T19:27:33.041987Z",
     "shell.execute_reply": "2023-12-18T19:27:33.041104Z"
    },
    "id": "ZsPJAX4diUua",
    "outputId": "508e0129-9359-466e-9a86-93bcf6c4cb7a",
    "papermill": {
     "duration": 0.033754,
     "end_time": "2023-12-18T19:27:33.043956",
     "exception": false,
     "start_time": "2023-12-18T19:27:33.010202",
     "status": "completed"
    },
    "tags": []
   },
   "outputs": [
    {
     "data": {
      "text/plain": [
       "(48000,)"
      ]
     },
     "execution_count": 16,
     "metadata": {},
     "output_type": "execute_result"
    }
   ],
   "source": [
    "categories = np.load(f'{dataset_dir}/categories.npy')\n",
    "categories_df = pd.DataFrame(categories, columns=['category'])\n",
    "unique_categories = np.unique(categories)\n",
    "\n",
    "categories.shape"
   ]
  },
  {
   "cell_type": "markdown",
   "id": "e4aed47a",
   "metadata": {
    "id": "E1Dncaj0mj07",
    "papermill": {
     "duration": 0.010429,
     "end_time": "2023-12-18T19:27:33.165948",
     "exception": false,
     "start_time": "2023-12-18T19:27:33.155519",
     "status": "completed"
    },
    "tags": []
   },
   "source": [
    "# Inspect"
   ]
  },
  {
   "cell_type": "code",
   "execution_count": 18,
   "id": "2751e1a3",
   "metadata": {
    "execution": {
     "iopub.execute_input": "2023-12-18T19:27:33.188504Z",
     "iopub.status.busy": "2023-12-18T19:27:33.188045Z",
     "iopub.status.idle": "2023-12-18T19:27:33.195138Z",
     "shell.execute_reply": "2023-12-18T19:27:33.194281Z"
    },
    "id": "JD0m_M8jj9Jo",
    "papermill": {
     "duration": 0.020846,
     "end_time": "2023-12-18T19:27:33.197340",
     "exception": false,
     "start_time": "2023-12-18T19:27:33.176494",
     "status": "completed"
    },
    "tags": []
   },
   "outputs": [],
   "source": [
    "def plot_ts(dataset, i, valid_periods=valid_periods):\n",
    "    # Plot the time series\n",
    "    plt.figure(figsize=(17, 6))\n",
    "    plt.plot(dataset.iloc[i, valid_periods[i][0]:valid_periods[i][1]], label='Data')\n",
    "    plt.xlabel('Time')\n",
    "    plt.ylabel('Value')\n",
    "    plt.legend()\n",
    "    plt.grid(True)\n",
    "    plt.show()\n",
    "    \n",
    "def plot_ts_custom(ts):\n",
    "    plt.figure(figsize=(17, 6))\n",
    "    plt.plot(ts, label='Data')\n",
    "    plt.xlabel('Time')\n",
    "    plt.ylabel('Value')\n",
    "    plt.show()"
   ]
  },
  {
   "cell_type": "code",
   "execution_count": 20,
   "id": "470265a4",
   "metadata": {
    "execution": {
     "iopub.execute_input": "2023-12-18T19:27:33.253845Z",
     "iopub.status.busy": "2023-12-18T19:27:33.253293Z",
     "iopub.status.idle": "2023-12-18T19:27:33.260005Z",
     "shell.execute_reply": "2023-12-18T19:27:33.259178Z"
    },
    "papermill": {
     "duration": 0.020356,
     "end_time": "2023-12-18T19:27:33.261943",
     "exception": false,
     "start_time": "2023-12-18T19:27:33.241587",
     "status": "completed"
    },
    "tags": []
   },
   "outputs": [],
   "source": [
    "def inspect_univariate(X, y, ax, telescope=9, pred=None, idx=None):\n",
    "    if(idx==None):\n",
    "        idx=np.random.randint(0,len(X))\n",
    "\n",
    "    ax.plot(np.arange(0, len(X[idx,:])), X[idx,:])\n",
    "    ax.scatter(np.arange(len(X[idx,:]), len(X[idx,:])+telescope), y[idx,:], color='orange')\n",
    "    if (pred is not None):\n",
    "        ax.plot(np.arange(len(X[idx,:]), len(X[idx,:])+telescope), pred[idx,:], color='green')"
   ]
  },
  {
   "cell_type": "markdown",
   "id": "1483040f",
   "metadata": {
    "id": "kUstSswXvb_c",
    "papermill": {
     "duration": 0.010335,
     "end_time": "2023-12-18T19:27:33.282881",
     "exception": false,
     "start_time": "2023-12-18T19:27:33.272546",
     "status": "completed"
    },
    "tags": []
   },
   "source": [
    "# Build model"
   ]
  },
  {
   "cell_type": "code",
   "execution_count": 21,
   "id": "91cf7d72",
   "metadata": {
    "execution": {
     "iopub.execute_input": "2023-12-18T19:27:33.306644Z",
     "iopub.status.busy": "2023-12-18T19:27:33.306320Z",
     "iopub.status.idle": "2023-12-18T19:27:33.513733Z",
     "shell.execute_reply": "2023-12-18T19:27:33.512861Z"
    },
    "papermill": {
     "duration": 0.22146,
     "end_time": "2023-12-18T19:27:33.516113",
     "exception": false,
     "start_time": "2023-12-18T19:27:33.294653",
     "status": "completed"
    },
    "tags": []
   },
   "outputs": [],
   "source": [
    "df = df.astype('float32')"
   ]
  },
  {
   "cell_type": "code",
   "execution_count": 22,
   "id": "bd1acc6a",
   "metadata": {
    "execution": {
     "iopub.execute_input": "2023-12-18T19:27:33.539769Z",
     "iopub.status.busy": "2023-12-18T19:27:33.539436Z",
     "iopub.status.idle": "2023-12-18T19:27:33.551252Z",
     "shell.execute_reply": "2023-12-18T19:27:33.550429Z"
    },
    "papermill": {
     "duration": 0.025823,
     "end_time": "2023-12-18T19:27:33.553221",
     "exception": false,
     "start_time": "2023-12-18T19:27:33.527398",
     "status": "completed"
    },
    "tags": []
   },
   "outputs": [],
   "source": [
    "def build_sequences(df, window=200, stride=10, telescope=9, valid_periods=valid_periods, mask=False):\n",
    "    # Sanity check to avoid runtime errors\n",
    "    assert window % stride == 0\n",
    "\n",
    "    dataset = []\n",
    "    labels = []\n",
    "    for index, row in tqdm(df.iterrows()):\n",
    "        if (not mask):\n",
    "            temp = row.values[valid_periods[index][0]:valid_periods[index][1]].astype('float32')\n",
    "        else:\n",
    "            temp = row.values.astype('float32')\n",
    "            \n",
    "        padding_check = len(temp)%window\n",
    "        if(padding_check != 0):\n",
    "            # Compute padding length\n",
    "            padding_len = window - padding_check\n",
    "            padding = np.zeros((padding_len), dtype='float32')\n",
    "            temp = np.concatenate((temp, padding))\n",
    "            assert len(temp) % window == 0\n",
    "            \n",
    "        \n",
    "        for idx in np.arange(0,len(temp)-window-telescope,stride):\n",
    "            d = temp[idx:idx+window]\n",
    "            if (np.all(d == 0.0)):\n",
    "                continue\n",
    "            dataset.append(d)\n",
    "            labels.append(temp[idx+window:idx+window+telescope])\n",
    "        \n",
    "    dataset = np.expand_dims(np.array(dataset), axis=2)\n",
    "    labels = np.expand_dims(np.array(labels), axis=2)\n",
    "    \n",
    "    return dataset, labels"
   ]
  },
  {
   "cell_type": "code",
   "execution_count": 27,
   "id": "6a616a16",
   "metadata": {
    "execution": {
     "iopub.execute_input": "2023-12-18T19:27:33.576560Z",
     "iopub.status.busy": "2023-12-18T19:27:33.576257Z",
     "iopub.status.idle": "2023-12-18T19:27:33.582129Z",
     "shell.execute_reply": "2023-12-18T19:27:33.581162Z"
    },
    "papermill": {
     "duration": 0.019515,
     "end_time": "2023-12-18T19:27:33.583973",
     "exception": false,
     "start_time": "2023-12-18T19:27:33.564458",
     "status": "completed"
    },
    "tags": []
   },
   "outputs": [],
   "source": [
    "def get_df_category(to_select, df=df, categories=categories, drop_info=True):\n",
    "    df_tmp = df.copy()\n",
    "    df_tmp['non_zero_counts'] = df_tmp.apply(lambda x: x.astype(bool).sum(), axis=1)\n",
    "    df_tmp['category'] = categories\n",
    "    df_tmp = df_tmp[(df_tmp['category'].isin(to_select))]\n",
    "    if (drop_info):\n",
    "        df_tmp.drop(columns=['category', 'non_zero_counts'], inplace=True)\n",
    "\n",
    "    return df_tmp"
   ]
  },
  {
   "cell_type": "markdown",
   "id": "d04c2982",
   "metadata": {
    "papermill": {
     "duration": 0.010653,
     "end_time": "2023-12-18T19:27:33.605377",
     "exception": false,
     "start_time": "2023-12-18T19:27:33.594724",
     "status": "completed"
    },
    "tags": []
   },
   "source": [
    "# Baseline"
   ]
  },
  {
   "cell_type": "code",
   "execution_count": 29,
   "id": "f8afcded",
   "metadata": {
    "execution": {
     "iopub.execute_input": "2023-12-18T19:27:33.629913Z",
     "iopub.status.busy": "2023-12-18T19:27:33.629287Z",
     "iopub.status.idle": "2023-12-18T19:27:33.635509Z",
     "shell.execute_reply": "2023-12-18T19:27:33.634580Z"
    },
    "papermill": {
     "duration": 0.021188,
     "end_time": "2023-12-18T19:27:33.637718",
     "exception": false,
     "start_time": "2023-12-18T19:27:33.616530",
     "status": "completed"
    },
    "tags": []
   },
   "outputs": [],
   "source": [
    "# Just predicts the mean of the last half of the input\n",
    "class BaselineModel():\n",
    "    def __init__(self):\n",
    "        pass\n",
    "    def fit():\n",
    "        pass\n",
    "    def predict(self, X_test):\n",
    "        return np.array([[np.mean(X_i[-int(len(X_i)/2):])] * 9 for X_i in X_test.squeeze()])"
   ]
  },
  {
   "cell_type": "code",
   "execution_count": 25,
   "id": "3aa63d53",
   "metadata": {
    "execution": {
     "iopub.execute_input": "2023-12-18T19:27:33.662741Z",
     "iopub.status.busy": "2023-12-18T19:27:33.662124Z",
     "iopub.status.idle": "2023-12-18T19:27:33.676758Z",
     "shell.execute_reply": "2023-12-18T19:27:33.675730Z"
    },
    "papermill": {
     "duration": 0.02946,
     "end_time": "2023-12-18T19:27:33.678842",
     "exception": false,
     "start_time": "2023-12-18T19:27:33.649382",
     "status": "completed"
    },
    "tags": []
   },
   "outputs": [],
   "source": [
    "def residual_block(x, filters, kernel_size=3, strides=1):\n",
    "    shortcut = x\n",
    "\n",
    "    x = tfkl.Conv1D(filters, kernel_size, strides=strides, padding='same')(x)\n",
    "    x = tfkl.BatchNormalization()(x)\n",
    "    x = tfkl.Activation('relu')(x)\n",
    "\n",
    "    x = tfkl.Conv1D(filters, kernel_size, strides=1, padding='same')(x)\n",
    "    x = tfkl.BatchNormalization()(x)\n",
    "\n",
    "    x = tfkl.Add()([x, shortcut])\n",
    "    x = tfkl.Activation('relu')(x)\n",
    "\n",
    "    return x\n",
    "\n",
    "def build_resnet_model(input_shape, output_shape):\n",
    "    input_layer = tfkl.Input(shape=input_shape)\n",
    "    mask = tfkl.Masking(mask_value=0.0)(input_layer)\n",
    "\n",
    "    x = tfkl.Conv1D(64, 7, strides=2, padding='same')(mask)\n",
    "    x = tfkl.BatchNormalization()(x)\n",
    "    x = tfkl.Activation('relu')(x)\n",
    "\n",
    "    x = residual_block(x, 64)\n",
    "\n",
    "    x = tfkl.Attention()([x, x])\n",
    "\n",
    "    x = tfkl.LSTM(64, return_sequences=True)(x)\n",
    "\n",
    "    x = tfkl.GlobalAveragePooling1D()(x)\n",
    "\n",
    "    x = tfkl.Dense(output_shape[0])(x)\n",
    "\n",
    "    model = tf.keras.Model(inputs=input_layer, outputs=x, name='resnet_model')\n",
    "    model.compile(loss=tf.keras.losses.MeanSquaredError(), optimizer=tf.keras.optimizers.Adam())\n",
    "\n",
    "    return model"
   ]
  },
  {
   "cell_type": "code",
   "execution_count": 28,
   "id": "f6c4ef0e",
   "metadata": {
    "execution": {
     "iopub.execute_input": "2023-12-18T19:27:33.852681Z",
     "iopub.status.busy": "2023-12-18T19:27:33.852393Z",
     "iopub.status.idle": "2023-12-18T19:27:39.365827Z",
     "shell.execute_reply": "2023-12-18T19:27:39.364768Z"
    },
    "papermill": {
     "duration": 5.527879,
     "end_time": "2023-12-18T19:27:39.368370",
     "exception": false,
     "start_time": "2023-12-18T19:27:33.840491",
     "status": "completed"
    },
    "tags": []
   },
   "outputs": [],
   "source": [
    "df_cat = get_df_category(['F'])"
   ]
  },
  {
   "cell_type": "markdown",
   "id": "51bae4ee",
   "metadata": {
    "papermill": {
     "duration": 0.015596,
     "end_time": "2023-12-18T19:27:53.165799",
     "exception": false,
     "start_time": "2023-12-18T19:27:53.150203",
     "status": "completed"
    },
    "tags": []
   },
   "source": [
    "# Run Model"
   ]
  },
  {
   "cell_type": "code",
   "execution_count": 30,
   "id": "9d9fbb8e",
   "metadata": {
    "execution": {
     "iopub.execute_input": "2023-12-18T19:27:53.199166Z",
     "iopub.status.busy": "2023-12-18T19:27:53.198781Z",
     "iopub.status.idle": "2023-12-18T20:07:07.980164Z",
     "shell.execute_reply": "2023-12-18T20:07:07.979151Z"
    },
    "papermill": {
     "duration": 2354.8005,
     "end_time": "2023-12-18T20:07:07.982257",
     "exception": false,
     "start_time": "2023-12-18T19:27:53.181757",
     "status": "completed"
    },
    "tags": []
   },
   "outputs": [
    {
     "name": "stderr",
     "output_type": "stream",
     "text": [
      "30720it [00:44, 691.52it/s]\n",
      "7680it [00:11, 690.41it/s]\n",
      "9600it [00:13, 691.94it/s]\n"
     ]
    },
    {
     "name": "stdout",
     "output_type": "stream",
     "text": [
      "(323597, 200, 1) (323597, 9, 1) (79919, 200, 1) (79919, 9, 1) (101511, 200, 1) (101511, 9, 1)\n",
      "Epoch 1/200\n",
      "5057/5057 [==============================] - 69s 11ms/step - loss: 0.0114 - val_loss: 0.0102 - lr: 0.0010\n",
      "Epoch 2/200\n",
      "5057/5057 [==============================] - 55s 11ms/step - loss: 0.0096 - val_loss: 0.0097 - lr: 0.0010\n",
      "Epoch 3/200\n",
      "5057/5057 [==============================] - 54s 11ms/step - loss: 0.0091 - val_loss: 0.0091 - lr: 0.0010\n",
      "Epoch 4/200\n",
      "5057/5057 [==============================] - 55s 11ms/step - loss: 0.0088 - val_loss: 0.0091 - lr: 0.0010\n",
      "Epoch 5/200\n",
      "5057/5057 [==============================] - 54s 11ms/step - loss: 0.0086 - val_loss: 0.0089 - lr: 0.0010\n",
      "Epoch 6/200\n",
      "5057/5057 [==============================] - 55s 11ms/step - loss: 0.0085 - val_loss: 0.0089 - lr: 0.0010\n",
      "Epoch 7/200\n",
      "5057/5057 [==============================] - 54s 11ms/step - loss: 0.0083 - val_loss: 0.0084 - lr: 0.0010\n",
      "Epoch 8/200\n",
      "5057/5057 [==============================] - 55s 11ms/step - loss: 0.0082 - val_loss: 0.0085 - lr: 0.0010\n",
      "Epoch 9/200\n",
      "5057/5057 [==============================] - 55s 11ms/step - loss: 0.0081 - val_loss: 0.0084 - lr: 0.0010\n",
      "Epoch 10/200\n",
      "5057/5057 [==============================] - 55s 11ms/step - loss: 0.0081 - val_loss: 0.0086 - lr: 0.0010\n",
      "Epoch 11/200\n",
      "5057/5057 [==============================] - 55s 11ms/step - loss: 0.0080 - val_loss: 0.0086 - lr: 0.0010\n",
      "Epoch 12/200\n",
      "5057/5057 [==============================] - 55s 11ms/step - loss: 0.0079 - val_loss: 0.0083 - lr: 0.0010\n",
      "Epoch 13/200\n",
      "5057/5057 [==============================] - 55s 11ms/step - loss: 0.0079 - val_loss: 0.0082 - lr: 0.0010\n",
      "Epoch 14/200\n",
      "5057/5057 [==============================] - 55s 11ms/step - loss: 0.0078 - val_loss: 0.0088 - lr: 0.0010\n",
      "Epoch 15/200\n",
      "5057/5057 [==============================] - 55s 11ms/step - loss: 0.0078 - val_loss: 0.0084 - lr: 0.0010\n",
      "Epoch 16/200\n",
      "5057/5057 [==============================] - 55s 11ms/step - loss: 0.0077 - val_loss: 0.0084 - lr: 0.0010\n",
      "Epoch 17/200\n",
      "5057/5057 [==============================] - 55s 11ms/step - loss: 0.0077 - val_loss: 0.0086 - lr: 0.0010\n",
      "Epoch 18/200\n",
      "5057/5057 [==============================] - 54s 11ms/step - loss: 0.0076 - val_loss: 0.0081 - lr: 0.0010\n",
      "Epoch 19/200\n",
      "5057/5057 [==============================] - 54s 11ms/step - loss: 0.0076 - val_loss: 0.0081 - lr: 0.0010\n",
      "Epoch 20/200\n",
      "5057/5057 [==============================] - 54s 11ms/step - loss: 0.0076 - val_loss: 0.0084 - lr: 0.0010\n",
      "Epoch 21/200\n",
      "5057/5057 [==============================] - 54s 11ms/step - loss: 0.0075 - val_loss: 0.0081 - lr: 0.0010\n",
      "Epoch 22/200\n",
      "5057/5057 [==============================] - 55s 11ms/step - loss: 0.0075 - val_loss: 0.0081 - lr: 0.0010\n",
      "Epoch 23/200\n",
      "5057/5057 [==============================] - 57s 11ms/step - loss: 0.0075 - val_loss: 0.0082 - lr: 0.0010\n",
      "Epoch 24/200\n",
      "5057/5057 [==============================] - 55s 11ms/step - loss: 0.0074 - val_loss: 0.0082 - lr: 0.0010\n",
      "Epoch 25/200\n",
      "5057/5057 [==============================] - 55s 11ms/step - loss: 0.0074 - val_loss: 0.0081 - lr: 0.0010\n",
      "Epoch 26/200\n",
      "5057/5057 [==============================] - 54s 11ms/step - loss: 0.0074 - val_loss: 0.0080 - lr: 0.0010\n",
      "Epoch 27/200\n",
      "5057/5057 [==============================] - 55s 11ms/step - loss: 0.0074 - val_loss: 0.0083 - lr: 0.0010\n",
      "Epoch 28/200\n",
      "5057/5057 [==============================] - 55s 11ms/step - loss: 0.0073 - val_loss: 0.0084 - lr: 0.0010\n",
      "Epoch 29/200\n",
      "5057/5057 [==============================] - 55s 11ms/step - loss: 0.0070 - val_loss: 0.0078 - lr: 1.0000e-04\n",
      "Epoch 30/200\n",
      "5057/5057 [==============================] - 54s 11ms/step - loss: 0.0069 - val_loss: 0.0078 - lr: 1.0000e-04\n",
      "Epoch 31/200\n",
      "5057/5057 [==============================] - 55s 11ms/step - loss: 0.0069 - val_loss: 0.0078 - lr: 1.0000e-04\n",
      "Epoch 32/200\n",
      "5057/5057 [==============================] - 54s 11ms/step - loss: 0.0069 - val_loss: 0.0078 - lr: 1.0000e-04\n",
      "Epoch 33/200\n",
      "5057/5057 [==============================] - 55s 11ms/step - loss: 0.0069 - val_loss: 0.0078 - lr: 1.0000e-04\n",
      "Epoch 34/200\n",
      "5057/5057 [==============================] - 55s 11ms/step - loss: 0.0068 - val_loss: 0.0078 - lr: 1.0000e-04\n",
      "Epoch 35/200\n",
      "5057/5057 [==============================] - 55s 11ms/step - loss: 0.0068 - val_loss: 0.0078 - lr: 1.0000e-04\n",
      "Epoch 36/200\n",
      "5057/5057 [==============================] - 55s 11ms/step - loss: 0.0068 - val_loss: 0.0078 - lr: 1.0000e-04\n",
      "Epoch 37/200\n",
      "5057/5057 [==============================] - 55s 11ms/step - loss: 0.0068 - val_loss: 0.0078 - lr: 1.0000e-04\n",
      "Epoch 38/200\n",
      "5057/5057 [==============================] - 55s 11ms/step - loss: 0.0068 - val_loss: 0.0078 - lr: 1.0000e-04\n",
      "Epoch 39/200\n",
      "5057/5057 [==============================] - 55s 11ms/step - loss: 0.0068 - val_loss: 0.0078 - lr: 1.0000e-04\n",
      "Epoch 40/200\n",
      "5057/5057 [==============================] - 55s 11ms/step - loss: 0.0067 - val_loss: 0.0078 - lr: 1.0000e-05\n",
      "Epoch 41/200\n",
      "5057/5057 [==============================] - 55s 11ms/step - loss: 0.0067 - val_loss: 0.0078 - lr: 1.0000e-05\n",
      "3173/3173 [==============================] - 11s 3ms/step\n"
     ]
    },
    {
     "data": {
      "text/plain": [
       "{'model_final': {'mse': 0.007561363, 'mae': 0.052284684}}"
      ]
     },
     "execution_count": 30,
     "metadata": {},
     "output_type": "execute_result"
    }
   ],
   "source": [
    "info = {}\n",
    "\n",
    "model_name='model_final'\n",
    "\n",
    "df_all = get_df_category(unique_categories, drop_info=False)\n",
    "\n",
    "telescope=9\n",
    "stride=20\n",
    "window=200\n",
    "\n",
    "\n",
    "X_train_val_raw, X_test_raw = train_test_split(df_all, test_size=0.2, random_state=42, stratify=df_all['category'])\n",
    "X_train_raw, X_val_raw = train_test_split(X_train_val_raw, test_size=0.2, random_state=42, stratify=X_train_val_raw['category'])\n",
    "\n",
    "X_train_raw.drop(columns=['category', 'non_zero_counts'], inplace=True)\n",
    "X_val_raw.drop(columns=['category', 'non_zero_counts'], inplace=True)\n",
    "X_test_raw.drop(columns=['category', 'non_zero_counts'], inplace=True)\n",
    "\n",
    "X_train, y_train = build_sequences(X_train_raw, window=window, stride=stride, telescope=telescope, mask=True)\n",
    "X_val, y_val = build_sequences(X_val_raw, window=window, stride=stride, telescope=telescope, mask=True)\n",
    "X_test, y_test = build_sequences(X_test_raw, window=window, stride=stride, telescope=telescope, mask=True)\n",
    "\n",
    "print(X_train.shape, y_train.shape, X_val.shape, y_val.shape, X_test.shape, y_test.shape)\n",
    "\n",
    "\n",
    "input_shape = X_train.shape[1:]\n",
    "output_shape = y_train.shape[1:]\n",
    "batch_size = 64\n",
    "epochs = 200\n",
    "\n",
    "model = build_resnet_model(input_shape, output_shape)\n",
    "model.summary()\n",
    "\n",
    "\n",
    "history = model.fit(\n",
    "    x = X_train,\n",
    "    y = y_train,\n",
    "    batch_size = batch_size,\n",
    "    validation_data=(X_val, y_val),\n",
    "    epochs = epochs,\n",
    "    callbacks = [\n",
    "        tfk.callbacks.EarlyStopping(monitor='val_loss', mode='min', patience=12, restore_best_weights=True, min_delta=0.0001),\n",
    "        tfk.callbacks.ReduceLROnPlateau(monitor='val_loss', mode='min', patience=10, factor=0.1, min_lr=1e-5)\n",
    "    ],\n",
    "    verbose=1,\n",
    ").history\n",
    "\n",
    "model.save(f'/kaggle/working/{model_name}.h5')\n",
    "\n",
    "preds = model.predict(X_test)\n",
    "\n",
    "info[model_name] = {\n",
    "    'mse': tfk.metrics.mean_squared_error(y_test.flatten(), preds.flatten()).numpy(),\n",
    "    'mae': tfk.metrics.mean_absolute_error(y_test.flatten(), preds.flatten()).numpy()\n",
    "}\n",
    "\n",
    "info"
   ]
  },
  {
   "cell_type": "code",
   "execution_count": null,
   "id": "e1f1c3dc",
   "metadata": {
    "papermill": {
     "duration": 3.243802,
     "end_time": "2023-12-18T20:07:33.922640",
     "exception": false,
     "start_time": "2023-12-18T20:07:30.678838",
     "status": "completed"
    },
    "tags": []
   },
   "outputs": [],
   "source": []
  }
 ],
 "metadata": {
  "colab": {
   "provenance": []
  },
  "kaggle": {
   "accelerator": "gpu",
   "dataSources": [
    {
     "datasetId": 4151489,
     "sourceId": 7182232,
     "sourceType": "datasetVersion"
    },
    {
     "datasetId": 4164608,
     "sourceId": 7200091,
     "sourceType": "datasetVersion"
    }
   ],
   "dockerImageVersionId": 30627,
   "isGpuEnabled": true,
   "isInternetEnabled": true,
   "language": "python",
   "sourceType": "notebook"
  },
  "kernelspec": {
   "display_name": "Python 3",
   "language": "python",
   "name": "python3"
  },
  "language_info": {
   "codemirror_mode": {
    "name": "ipython",
    "version": 3
   },
   "file_extension": ".py",
   "mimetype": "text/x-python",
   "name": "python",
   "nbconvert_exporter": "python",
   "pygments_lexer": "ipython3",
   "version": "3.11.5"
  },
  "papermill": {
   "default_parameters": {},
   "duration": 2449.154313,
   "end_time": "2023-12-18T20:07:40.399453",
   "environment_variables": {},
   "exception": null,
   "input_path": "__notebook__.ipynb",
   "output_path": "__notebook__.ipynb",
   "parameters": {},
   "start_time": "2023-12-18T19:26:51.245140",
   "version": "2.4.0"
  }
 },
 "nbformat": 4,
 "nbformat_minor": 5
}
