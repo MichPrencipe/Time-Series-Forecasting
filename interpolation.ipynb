{
  "nbformat": 4,
  "nbformat_minor": 0,
  "metadata": {
    "colab": {
      "provenance": [],
      "collapsed_sections": [
        "XCbVX4MzPEBH",
        "pLZ8crVUCFWS",
        "HD52bFvHKkua",
        "TSghfMu8-BBp"
      ],
      "gpuType": "T4"
    },
    "kernelspec": {
      "name": "python3",
      "display_name": "Python 3"
    },
    "language_info": {
      "name": "python"
    },
    "accelerator": "GPU"
  },
  "cells": [
    {
      "cell_type": "markdown",
      "source": [
        "# Connect To Drive"
      ],
      "metadata": {
        "id": "wM4DCuD0PEbn"
      }
    },
    {
      "cell_type": "markdown",
      "source": [
        "# Import Libraries"
      ],
      "metadata": {
        "id": "XCbVX4MzPEBH"
      }
    },
    {
      "cell_type": "code",
      "source": [
        "# Fix randomness and hide warnings\n",
        "seed = 42\n",
        "\n",
        "import os\n",
        "os.environ['TF_CPP_MIN_LOG_LEVEL'] = '3'\n",
        "os.environ['PYTHONHASHSEED'] = str(seed)\n",
        "os.environ['MPLCONFIGDIR'] = os.getcwd()+'/configs/'\n",
        "\n",
        "import warnings\n",
        "warnings.simplefilter(action='ignore', category=FutureWarning)\n",
        "warnings.simplefilter(action='ignore', category=Warning)\n",
        "\n",
        "import numpy as np\n",
        "np.random.seed(seed)\n",
        "\n",
        "import logging\n",
        "\n",
        "import random\n",
        "random.seed(seed)"
      ],
      "metadata": {
        "id": "BbdCOjg97Xer"
      },
      "execution_count": null,
      "outputs": []
    },
    {
      "cell_type": "code",
      "source": [
        "# Import tensorflow\n",
        "import tensorflow as tf\n",
        "from tensorflow import keras as tfk\n",
        "from tensorflow.keras import layers as tfkl\n",
        "tf.autograph.set_verbosity(0)\n",
        "tf.get_logger().setLevel(logging.ERROR)\n",
        "tf.compat.v1.logging.set_verbosity(tf.compat.v1.logging.ERROR)\n",
        "tf.random.set_seed(seed)\n",
        "tf.compat.v1.set_random_seed(seed)\n",
        "print(tf.__version__)"
      ],
      "metadata": {
        "colab": {
          "base_uri": "https://localhost:8080/"
        },
        "id": "P7vpUKiZP5CN",
        "outputId": "73644dc5-fecd-48ed-b1e4-b093e31c3059"
      },
      "execution_count": null,
      "outputs": [
        {
          "output_type": "stream",
          "name": "stdout",
          "text": [
            "2.15.0\n"
          ]
        }
      ]
    },
    {
      "cell_type": "code",
      "source": [
        "import pandas as pd\n",
        "import seaborn as sns\n",
        "from datetime import datetime\n",
        "import matplotlib.pyplot as plt\n",
        "plt.rc('font', size=16)\n",
        "from sklearn.preprocessing import MinMaxScaler\n",
        "from sklearn.model_selection import train_test_split\n",
        "import statsmodels.api as sm\n"
      ],
      "metadata": {
        "id": "BI4CCnx5P9zF"
      },
      "execution_count": null,
      "outputs": []
    },
    {
      "cell_type": "markdown",
      "source": [
        "# Load Data"
      ],
      "metadata": {
        "id": "pLZ8crVUCFWS"
      }
    },
    {
      "cell_type": "code",
      "source": [
        "train_data = np.load('/gdrive/MyDrive/ANNDL/Homework2/training_data.npy')\n",
        "categories = np.load('/gdrive/MyDrive/ANNDL/Homework2/categories.npy')\n",
        "valid_periods = np.load('/gdrive/MyDrive/ANNDL/Homework2/valid_periods.npy')"
      ],
      "metadata": {
        "id": "6fhTiRwMP_U9"
      },
      "execution_count": null,
      "outputs": []
    },
    {
      "cell_type": "code",
      "source": [
        "train_data.shape"
      ],
      "metadata": {
        "colab": {
          "base_uri": "https://localhost:8080/"
        },
        "id": "pzdZ01o9wizt",
        "outputId": "4a0b8fb5-b4d3-4ce9-fc65-ff6ca391479a"
      },
      "execution_count": null,
      "outputs": [
        {
          "output_type": "execute_result",
          "data": {
            "text/plain": [
              "(48000, 2776)"
            ]
          },
          "metadata": {},
          "execution_count": 6
        }
      ]
    },
    {
      "cell_type": "markdown",
      "source": [
        "# Data Visualization"
      ],
      "metadata": {
        "id": "HD52bFvHKkua"
      }
    },
    {
      "cell_type": "code",
      "source": [
        "def plot_each_category(dataset, categories=categories, valid_periods=valid_periods):\n",
        "  unique_categories, indices_unique_categories = np.unique(categories, return_index=True)\n",
        "  figs, axs = plt.subplots(len(unique_categories), 1, sharex=True, figsize=(17,17))\n",
        "  for i, category in enumerate(unique_categories):\n",
        "    idx = indices_unique_categories[i]\n",
        "    axs[i].plot(dataset[idx][valid_periods[idx][0]:valid_periods[idx][1]])\n",
        "    axs[i].set_title(category)\n",
        "  plt.show()"
      ],
      "metadata": {
        "id": "8u_MXSz1TQnz"
      },
      "execution_count": null,
      "outputs": []
    },
    {
      "cell_type": "code",
      "source": [
        "plot_each_category(train_data)"
      ],
      "metadata": {
        "id": "5pczJbkYTXG-"
      },
      "execution_count": null,
      "outputs": []
    },
    {
      "cell_type": "markdown",
      "source": [
        "# Data cleaning"
      ],
      "metadata": {
        "id": "FAcO-RuLASBT"
      }
    },
    {
      "cell_type": "code",
      "source": [
        "#converting to dataframe\n",
        "df = pd.DataFrame(train_data).astype('float32')\n",
        "categories_dataframe = pd.DataFrame(categories)\n",
        "valid_dataframe = pd.DataFrame(valid_periods)"
      ],
      "metadata": {
        "id": "GlkFOmFCVTP5"
      },
      "execution_count": null,
      "outputs": []
    },
    {
      "cell_type": "code",
      "source": [
        "import pandas as pd\n",
        "from tqdm import tqdm\n",
        "\n",
        "interpolated_df = []\n",
        "\n",
        "for i in tqdm(range(len(df))):\n",
        "  row_data = df.iloc[i, :]\n",
        "  # Calcola l'interpolazione tra ogni coppia di elementi consecutivi\n",
        "  interpolated_values = []\n",
        "\n",
        "  for i, pair in enumerate(zip(row_data[:-1], row_data[1:])):\n",
        "      val = round((pair[0] + pair[1]) / 2, 6)\n",
        "      if i == 0:\n",
        "        interpolated_values.append(pair[0])\n",
        "        interpolated_values.append(val)\n",
        "        interpolated_values.append(pair[1])\n",
        "      else:\n",
        "        interpolated_values.append(val)\n",
        "        interpolated_values.append(pair[1])\n",
        "  interpolated_df.append(interpolated_values)\n",
        "interpolated_df = pd.DataFrame(interpolated_df)\n"
      ],
      "metadata": {
        "colab": {
          "base_uri": "https://localhost:8080/"
        },
        "id": "UmlraQkka7Mr",
        "outputId": "afdf4251-2a2b-48a1-db32-f79e9471d86b"
      },
      "execution_count": null,
      "outputs": [
        {
          "output_type": "stream",
          "name": "stderr",
          "text": [
            " 94%|█████████▍| 45028/48000 [03:58<00:11, 249.92it/s]"
          ]
        }
      ]
    },
    {
      "cell_type": "code",
      "source": [
        "interpolated_df"
      ],
      "metadata": {
        "id": "TIctk0AKxU0H"
      },
      "execution_count": null,
      "outputs": []
    },
    {
      "cell_type": "code",
      "source": [
        "#clean the periods that have time series too short\n",
        "def cleaning_period(valid_df):\n",
        "  valid_filtered = valid_df[valid_df.iloc[:,1] - valid_df.iloc[:,0] >= 105] # thanks to interpolation we can remove less time series\n",
        "  return valid_filtered"
      ],
      "metadata": {
        "id": "Ky7FB32C4IUW"
      },
      "execution_count": null,
      "outputs": []
    },
    {
      "cell_type": "code",
      "source": [
        "#cleaning dataframe and categories\n",
        "valid_clean = cleaning_period(valid_dataframe)\n",
        "categories_clean = categories_dataframe.iloc[valid_clean.index,:]\n",
        "df_clean = df.iloc[valid_clean.index, :]"
      ],
      "metadata": {
        "id": "8-tim6Hs_n2V"
      },
      "execution_count": null,
      "outputs": []
    }
  ]
}